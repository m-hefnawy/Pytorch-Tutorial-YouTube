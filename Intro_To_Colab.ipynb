{
  "nbformat": 4,
  "nbformat_minor": 0,
  "metadata": {
    "colab": {
      "provenance": [],
      "gpuType": "T4",
      "authorship_tag": "ABX9TyP1Y+PqSuNklRHr243inveL",
      "include_colab_link": true
    },
    "kernelspec": {
      "name": "python3",
      "display_name": "Python 3"
    },
    "language_info": {
      "name": "python"
    },
    "accelerator": "GPU"
  },
  "cells": [
    {
      "cell_type": "markdown",
      "metadata": {
        "id": "view-in-github",
        "colab_type": "text"
      },
      "source": [
        "<a href=\"https://colab.research.google.com/github/m-hefnawy/Pytorch-Tutorial-YouTube/blob/main/Intro_To_Colab.ipynb\" target=\"_parent\"><img src=\"https://colab.research.google.com/assets/colab-badge.svg\" alt=\"Open In Colab\"/></a>"
      ]
    },
    {
      "cell_type": "code",
      "execution_count": 31,
      "metadata": {
        "id": "xByXTJSnVZ-s"
      },
      "outputs": [],
      "source": [
        "import torch\n",
        "import torch.nn as nn\n",
        "import torch.nn.functional as F\n",
        "import pandas as pd\n",
        "import numpy as np\n",
        "from sklearn import datasets\n",
        "from sklearn.model_selection import train_test_split\n",
        "import matplotlib.pyplot as plt\n",
        "%matplotlib inline"
      ]
    },
    {
      "cell_type": "code",
      "source": [
        "# Create a Model that inherits nn.Module to classify iris flowers (four features, three classes)\n",
        "class Model(nn.Module):\n",
        "  # Input layer (4 features of the flower) -->\n",
        "  # Hidden layer1 (number of neurons) -->\n",
        "  # Hidden layer2 (number of neurons) -->\n",
        "  # Output layer (3 classes)\n",
        "  def __init__(self, in_features=4, h1=8, h2= 16, out_features=3):\n",
        "    super().__init__() # inistintiate the nn.Module\n",
        "    self.fc1 = nn.Linear(in_features, h1)\n",
        "    self.fc2 = nn.Linear(h1, h2)\n",
        "    self.out = nn.Linear(h2, out_features)\n",
        "\n",
        "  def forward(self, x):\n",
        "    x = F.relu(self.fc1(x))\n",
        "    x = F.relu(self.fc2(x))\n",
        "    x = self.out(x)\n",
        "\n",
        "    return x"
      ],
      "metadata": {
        "id": "BQJoF-iKVcLZ"
      },
      "execution_count": 3,
      "outputs": []
    },
    {
      "cell_type": "code",
      "source": [
        "# Pick a manual seed for randomization\n",
        "torch.manual_seed(41)\n",
        "# Create an instance of the model\n",
        "model = Model()\n",
        "# Load iris data\n",
        "\n",
        "iris = datasets.load_iris()\n",
        "\n",
        "my_df = pd.DataFrame(\n",
        "    iris.data,\n",
        "    columns=iris.feature_names\n",
        "    )\n",
        "\n",
        "my_df['variety'] = iris.target\n",
        "my_df.head()"
      ],
      "metadata": {
        "colab": {
          "base_uri": "https://localhost:8080/",
          "height": 206
        },
        "id": "C-vIr-FpAIEb",
        "outputId": "1039a36c-f462-4c7d-a826-55d311a3b948"
      },
      "execution_count": 5,
      "outputs": [
        {
          "output_type": "execute_result",
          "data": {
            "text/plain": [
              "   sepal length (cm)  sepal width (cm)  petal length (cm)  petal width (cm)  \\\n",
              "0                5.1               3.5                1.4               0.2   \n",
              "1                4.9               3.0                1.4               0.2   \n",
              "2                4.7               3.2                1.3               0.2   \n",
              "3                4.6               3.1                1.5               0.2   \n",
              "4                5.0               3.6                1.4               0.2   \n",
              "\n",
              "   variety  \n",
              "0        0  \n",
              "1        0  \n",
              "2        0  \n",
              "3        0  \n",
              "4        0  "
            ],
            "text/html": [
              "\n",
              "  <div id=\"df-320523e5-a668-4bb4-98d8-209297d242ba\" class=\"colab-df-container\">\n",
              "    <div>\n",
              "<style scoped>\n",
              "    .dataframe tbody tr th:only-of-type {\n",
              "        vertical-align: middle;\n",
              "    }\n",
              "\n",
              "    .dataframe tbody tr th {\n",
              "        vertical-align: top;\n",
              "    }\n",
              "\n",
              "    .dataframe thead th {\n",
              "        text-align: right;\n",
              "    }\n",
              "</style>\n",
              "<table border=\"1\" class=\"dataframe\">\n",
              "  <thead>\n",
              "    <tr style=\"text-align: right;\">\n",
              "      <th></th>\n",
              "      <th>sepal length (cm)</th>\n",
              "      <th>sepal width (cm)</th>\n",
              "      <th>petal length (cm)</th>\n",
              "      <th>petal width (cm)</th>\n",
              "      <th>variety</th>\n",
              "    </tr>\n",
              "  </thead>\n",
              "  <tbody>\n",
              "    <tr>\n",
              "      <th>0</th>\n",
              "      <td>5.1</td>\n",
              "      <td>3.5</td>\n",
              "      <td>1.4</td>\n",
              "      <td>0.2</td>\n",
              "      <td>0</td>\n",
              "    </tr>\n",
              "    <tr>\n",
              "      <th>1</th>\n",
              "      <td>4.9</td>\n",
              "      <td>3.0</td>\n",
              "      <td>1.4</td>\n",
              "      <td>0.2</td>\n",
              "      <td>0</td>\n",
              "    </tr>\n",
              "    <tr>\n",
              "      <th>2</th>\n",
              "      <td>4.7</td>\n",
              "      <td>3.2</td>\n",
              "      <td>1.3</td>\n",
              "      <td>0.2</td>\n",
              "      <td>0</td>\n",
              "    </tr>\n",
              "    <tr>\n",
              "      <th>3</th>\n",
              "      <td>4.6</td>\n",
              "      <td>3.1</td>\n",
              "      <td>1.5</td>\n",
              "      <td>0.2</td>\n",
              "      <td>0</td>\n",
              "    </tr>\n",
              "    <tr>\n",
              "      <th>4</th>\n",
              "      <td>5.0</td>\n",
              "      <td>3.6</td>\n",
              "      <td>1.4</td>\n",
              "      <td>0.2</td>\n",
              "      <td>0</td>\n",
              "    </tr>\n",
              "  </tbody>\n",
              "</table>\n",
              "</div>\n",
              "    <div class=\"colab-df-buttons\">\n",
              "\n",
              "  <div class=\"colab-df-container\">\n",
              "    <button class=\"colab-df-convert\" onclick=\"convertToInteractive('df-320523e5-a668-4bb4-98d8-209297d242ba')\"\n",
              "            title=\"Convert this dataframe to an interactive table.\"\n",
              "            style=\"display:none;\">\n",
              "\n",
              "  <svg xmlns=\"http://www.w3.org/2000/svg\" height=\"24px\" viewBox=\"0 -960 960 960\">\n",
              "    <path d=\"M120-120v-720h720v720H120Zm60-500h600v-160H180v160Zm220 220h160v-160H400v160Zm0 220h160v-160H400v160ZM180-400h160v-160H180v160Zm440 0h160v-160H620v160ZM180-180h160v-160H180v160Zm440 0h160v-160H620v160Z\"/>\n",
              "  </svg>\n",
              "    </button>\n",
              "\n",
              "  <style>\n",
              "    .colab-df-container {\n",
              "      display:flex;\n",
              "      gap: 12px;\n",
              "    }\n",
              "\n",
              "    .colab-df-convert {\n",
              "      background-color: #E8F0FE;\n",
              "      border: none;\n",
              "      border-radius: 50%;\n",
              "      cursor: pointer;\n",
              "      display: none;\n",
              "      fill: #1967D2;\n",
              "      height: 32px;\n",
              "      padding: 0 0 0 0;\n",
              "      width: 32px;\n",
              "    }\n",
              "\n",
              "    .colab-df-convert:hover {\n",
              "      background-color: #E2EBFA;\n",
              "      box-shadow: 0px 1px 2px rgba(60, 64, 67, 0.3), 0px 1px 3px 1px rgba(60, 64, 67, 0.15);\n",
              "      fill: #174EA6;\n",
              "    }\n",
              "\n",
              "    .colab-df-buttons div {\n",
              "      margin-bottom: 4px;\n",
              "    }\n",
              "\n",
              "    [theme=dark] .colab-df-convert {\n",
              "      background-color: #3B4455;\n",
              "      fill: #D2E3FC;\n",
              "    }\n",
              "\n",
              "    [theme=dark] .colab-df-convert:hover {\n",
              "      background-color: #434B5C;\n",
              "      box-shadow: 0px 1px 3px 1px rgba(0, 0, 0, 0.15);\n",
              "      filter: drop-shadow(0px 1px 2px rgba(0, 0, 0, 0.3));\n",
              "      fill: #FFFFFF;\n",
              "    }\n",
              "  </style>\n",
              "\n",
              "    <script>\n",
              "      const buttonEl =\n",
              "        document.querySelector('#df-320523e5-a668-4bb4-98d8-209297d242ba button.colab-df-convert');\n",
              "      buttonEl.style.display =\n",
              "        google.colab.kernel.accessAllowed ? 'block' : 'none';\n",
              "\n",
              "      async function convertToInteractive(key) {\n",
              "        const element = document.querySelector('#df-320523e5-a668-4bb4-98d8-209297d242ba');\n",
              "        const dataTable =\n",
              "          await google.colab.kernel.invokeFunction('convertToInteractive',\n",
              "                                                    [key], {});\n",
              "        if (!dataTable) return;\n",
              "\n",
              "        const docLinkHtml = 'Like what you see? Visit the ' +\n",
              "          '<a target=\"_blank\" href=https://colab.research.google.com/notebooks/data_table.ipynb>data table notebook</a>'\n",
              "          + ' to learn more about interactive tables.';\n",
              "        element.innerHTML = '';\n",
              "        dataTable['output_type'] = 'display_data';\n",
              "        await google.colab.output.renderOutput(dataTable, element);\n",
              "        const docLink = document.createElement('div');\n",
              "        docLink.innerHTML = docLinkHtml;\n",
              "        element.appendChild(docLink);\n",
              "      }\n",
              "    </script>\n",
              "  </div>\n",
              "\n",
              "\n",
              "<div id=\"df-1e767212-8932-41be-a3d4-046c9aa86b2d\">\n",
              "  <button class=\"colab-df-quickchart\" onclick=\"quickchart('df-1e767212-8932-41be-a3d4-046c9aa86b2d')\"\n",
              "            title=\"Suggest charts\"\n",
              "            style=\"display:none;\">\n",
              "\n",
              "<svg xmlns=\"http://www.w3.org/2000/svg\" height=\"24px\"viewBox=\"0 0 24 24\"\n",
              "     width=\"24px\">\n",
              "    <g>\n",
              "        <path d=\"M19 3H5c-1.1 0-2 .9-2 2v14c0 1.1.9 2 2 2h14c1.1 0 2-.9 2-2V5c0-1.1-.9-2-2-2zM9 17H7v-7h2v7zm4 0h-2V7h2v10zm4 0h-2v-4h2v4z\"/>\n",
              "    </g>\n",
              "</svg>\n",
              "  </button>\n",
              "\n",
              "<style>\n",
              "  .colab-df-quickchart {\n",
              "      --bg-color: #E8F0FE;\n",
              "      --fill-color: #1967D2;\n",
              "      --hover-bg-color: #E2EBFA;\n",
              "      --hover-fill-color: #174EA6;\n",
              "      --disabled-fill-color: #AAA;\n",
              "      --disabled-bg-color: #DDD;\n",
              "  }\n",
              "\n",
              "  [theme=dark] .colab-df-quickchart {\n",
              "      --bg-color: #3B4455;\n",
              "      --fill-color: #D2E3FC;\n",
              "      --hover-bg-color: #434B5C;\n",
              "      --hover-fill-color: #FFFFFF;\n",
              "      --disabled-bg-color: #3B4455;\n",
              "      --disabled-fill-color: #666;\n",
              "  }\n",
              "\n",
              "  .colab-df-quickchart {\n",
              "    background-color: var(--bg-color);\n",
              "    border: none;\n",
              "    border-radius: 50%;\n",
              "    cursor: pointer;\n",
              "    display: none;\n",
              "    fill: var(--fill-color);\n",
              "    height: 32px;\n",
              "    padding: 0;\n",
              "    width: 32px;\n",
              "  }\n",
              "\n",
              "  .colab-df-quickchart:hover {\n",
              "    background-color: var(--hover-bg-color);\n",
              "    box-shadow: 0 1px 2px rgba(60, 64, 67, 0.3), 0 1px 3px 1px rgba(60, 64, 67, 0.15);\n",
              "    fill: var(--button-hover-fill-color);\n",
              "  }\n",
              "\n",
              "  .colab-df-quickchart-complete:disabled,\n",
              "  .colab-df-quickchart-complete:disabled:hover {\n",
              "    background-color: var(--disabled-bg-color);\n",
              "    fill: var(--disabled-fill-color);\n",
              "    box-shadow: none;\n",
              "  }\n",
              "\n",
              "  .colab-df-spinner {\n",
              "    border: 2px solid var(--fill-color);\n",
              "    border-color: transparent;\n",
              "    border-bottom-color: var(--fill-color);\n",
              "    animation:\n",
              "      spin 1s steps(1) infinite;\n",
              "  }\n",
              "\n",
              "  @keyframes spin {\n",
              "    0% {\n",
              "      border-color: transparent;\n",
              "      border-bottom-color: var(--fill-color);\n",
              "      border-left-color: var(--fill-color);\n",
              "    }\n",
              "    20% {\n",
              "      border-color: transparent;\n",
              "      border-left-color: var(--fill-color);\n",
              "      border-top-color: var(--fill-color);\n",
              "    }\n",
              "    30% {\n",
              "      border-color: transparent;\n",
              "      border-left-color: var(--fill-color);\n",
              "      border-top-color: var(--fill-color);\n",
              "      border-right-color: var(--fill-color);\n",
              "    }\n",
              "    40% {\n",
              "      border-color: transparent;\n",
              "      border-right-color: var(--fill-color);\n",
              "      border-top-color: var(--fill-color);\n",
              "    }\n",
              "    60% {\n",
              "      border-color: transparent;\n",
              "      border-right-color: var(--fill-color);\n",
              "    }\n",
              "    80% {\n",
              "      border-color: transparent;\n",
              "      border-right-color: var(--fill-color);\n",
              "      border-bottom-color: var(--fill-color);\n",
              "    }\n",
              "    90% {\n",
              "      border-color: transparent;\n",
              "      border-bottom-color: var(--fill-color);\n",
              "    }\n",
              "  }\n",
              "</style>\n",
              "\n",
              "  <script>\n",
              "    async function quickchart(key) {\n",
              "      const quickchartButtonEl =\n",
              "        document.querySelector('#' + key + ' button');\n",
              "      quickchartButtonEl.disabled = true;  // To prevent multiple clicks.\n",
              "      quickchartButtonEl.classList.add('colab-df-spinner');\n",
              "      try {\n",
              "        const charts = await google.colab.kernel.invokeFunction(\n",
              "            'suggestCharts', [key], {});\n",
              "      } catch (error) {\n",
              "        console.error('Error during call to suggestCharts:', error);\n",
              "      }\n",
              "      quickchartButtonEl.classList.remove('colab-df-spinner');\n",
              "      quickchartButtonEl.classList.add('colab-df-quickchart-complete');\n",
              "    }\n",
              "    (() => {\n",
              "      let quickchartButtonEl =\n",
              "        document.querySelector('#df-1e767212-8932-41be-a3d4-046c9aa86b2d button');\n",
              "      quickchartButtonEl.style.display =\n",
              "        google.colab.kernel.accessAllowed ? 'block' : 'none';\n",
              "    })();\n",
              "  </script>\n",
              "</div>\n",
              "\n",
              "    </div>\n",
              "  </div>\n"
            ],
            "application/vnd.google.colaboratory.intrinsic+json": {
              "type": "dataframe",
              "variable_name": "my_df",
              "summary": "{\n  \"name\": \"my_df\",\n  \"rows\": 150,\n  \"fields\": [\n    {\n      \"column\": \"sepal length (cm)\",\n      \"properties\": {\n        \"dtype\": \"number\",\n        \"std\": 0.828066127977863,\n        \"min\": 4.3,\n        \"max\": 7.9,\n        \"num_unique_values\": 35,\n        \"samples\": [\n          6.2,\n          4.5,\n          5.6\n        ],\n        \"semantic_type\": \"\",\n        \"description\": \"\"\n      }\n    },\n    {\n      \"column\": \"sepal width (cm)\",\n      \"properties\": {\n        \"dtype\": \"number\",\n        \"std\": 0.4358662849366982,\n        \"min\": 2.0,\n        \"max\": 4.4,\n        \"num_unique_values\": 23,\n        \"samples\": [\n          2.3,\n          4.0,\n          3.5\n        ],\n        \"semantic_type\": \"\",\n        \"description\": \"\"\n      }\n    },\n    {\n      \"column\": \"petal length (cm)\",\n      \"properties\": {\n        \"dtype\": \"number\",\n        \"std\": 1.7652982332594662,\n        \"min\": 1.0,\n        \"max\": 6.9,\n        \"num_unique_values\": 43,\n        \"samples\": [\n          6.7,\n          3.8,\n          3.7\n        ],\n        \"semantic_type\": \"\",\n        \"description\": \"\"\n      }\n    },\n    {\n      \"column\": \"petal width (cm)\",\n      \"properties\": {\n        \"dtype\": \"number\",\n        \"std\": 0.7622376689603465,\n        \"min\": 0.1,\n        \"max\": 2.5,\n        \"num_unique_values\": 22,\n        \"samples\": [\n          0.2,\n          1.2,\n          1.3\n        ],\n        \"semantic_type\": \"\",\n        \"description\": \"\"\n      }\n    },\n    {\n      \"column\": \"variety\",\n      \"properties\": {\n        \"dtype\": \"number\",\n        \"std\": 0,\n        \"min\": 0,\n        \"max\": 2,\n        \"num_unique_values\": 3,\n        \"samples\": [\n          0,\n          1,\n          2\n        ],\n        \"semantic_type\": \"\",\n        \"description\": \"\"\n      }\n    }\n  ]\n}"
            }
          },
          "metadata": {},
          "execution_count": 5
        }
      ]
    },
    {
      "cell_type": "code",
      "source": [
        "# Train test split, set X, y\n",
        "X = my_df.drop('variety', axis = 1)\n",
        "y = my_df['variety']\n",
        "X.shape, y.shape, X.info(), y.info()"
      ],
      "metadata": {
        "colab": {
          "base_uri": "https://localhost:8080/"
        },
        "id": "l6Pj0mgbCGof",
        "outputId": "b203aca7-0d61-4b14-f936-18f9a83943c9"
      },
      "execution_count": 13,
      "outputs": [
        {
          "output_type": "stream",
          "name": "stdout",
          "text": [
            "<class 'pandas.core.frame.DataFrame'>\n",
            "RangeIndex: 150 entries, 0 to 149\n",
            "Data columns (total 4 columns):\n",
            " #   Column             Non-Null Count  Dtype  \n",
            "---  ------             --------------  -----  \n",
            " 0   sepal length (cm)  150 non-null    float64\n",
            " 1   sepal width (cm)   150 non-null    float64\n",
            " 2   petal length (cm)  150 non-null    float64\n",
            " 3   petal width (cm)   150 non-null    float64\n",
            "dtypes: float64(4)\n",
            "memory usage: 4.8 KB\n",
            "<class 'pandas.core.series.Series'>\n",
            "RangeIndex: 150 entries, 0 to 149\n",
            "Series name: variety\n",
            "Non-Null Count  Dtype\n",
            "--------------  -----\n",
            "150 non-null    int64\n",
            "dtypes: int64(1)\n",
            "memory usage: 1.3 KB\n"
          ]
        },
        {
          "output_type": "execute_result",
          "data": {
            "text/plain": [
              "((150, 4), (150,), None, None)"
            ]
          },
          "metadata": {},
          "execution_count": 13
        }
      ]
    },
    {
      "cell_type": "code",
      "source": [
        "# Convert Pandas dataframes to numpy arrays\n",
        "X = X.to_numpy()\n",
        "y = y.to_numpy()"
      ],
      "metadata": {
        "id": "v99zPqxVCb4g"
      },
      "execution_count": 14,
      "outputs": []
    },
    {
      "cell_type": "code",
      "source": [
        "# Train test split\n",
        "X_train, X_test, y_train, y_test = train_test_split(X, y, test_size = 0.2, random_state = 41)"
      ],
      "metadata": {
        "id": "qZ9S_EWTDeE6"
      },
      "execution_count": 20,
      "outputs": []
    },
    {
      "cell_type": "code",
      "source": [
        "# Convert numpy arrays to float tensors.\n",
        "X_train = torch.FloatTensor(X_train)\n",
        "X_test = torch.FloatTensor(X_test)\n",
        "\n",
        "# Convert labels to long tensors\n",
        "y_train = torch.LongTensor(y_train)\n",
        "y_test = torch.LongTensor(y_test)"
      ],
      "metadata": {
        "id": "rMIMnrjdE9p3"
      },
      "execution_count": 21,
      "outputs": []
    },
    {
      "cell_type": "code",
      "source": [
        "# Set the criterion  of the model to measure the error, how far off the prediction are from the data\n",
        "criterion = nn.CrossEntropyLoss()\n",
        "# Choose Optimizer (Adam)\\\n",
        "# Choose learning rate\n",
        "optimizer = torch.optim.Adam(model.parameters(), lr = 0.01)"
      ],
      "metadata": {
        "id": "ftS3NKZCFohh"
      },
      "execution_count": 22,
      "outputs": []
    },
    {
      "cell_type": "code",
      "source": [
        "for param in model.parameters(): print(param, param.size())"
      ],
      "metadata": {
        "colab": {
          "base_uri": "https://localhost:8080/"
        },
        "id": "9MC26fNkHE9E",
        "outputId": "8b32301b-515a-4bf9-c75a-d872a998c832"
      },
      "execution_count": 27,
      "outputs": [
        {
          "output_type": "stream",
          "name": "stdout",
          "text": [
            "Parameter containing:\n",
            "tensor([[-0.2636, -0.2734,  0.3005, -0.3308],\n",
            "        [-0.2350,  0.2720, -0.3718,  0.2452],\n",
            "        [ 0.3045,  0.1357,  0.0896,  0.1933],\n",
            "        [ 0.3782,  0.0407, -0.3600,  0.4613],\n",
            "        [ 0.3666, -0.0116, -0.2923, -0.1937],\n",
            "        [-0.4415,  0.3314, -0.0434,  0.3445],\n",
            "        [ 0.1883, -0.0992, -0.3197,  0.1740],\n",
            "        [-0.3208, -0.1111,  0.2972, -0.2723]], requires_grad=True) torch.Size([8, 4])\n",
            "Parameter containing:\n",
            "tensor([-0.0245, -0.0679,  0.0573,  0.4814,  0.2923, -0.1877,  0.4425, -0.1626],\n",
            "       requires_grad=True) torch.Size([8])\n",
            "Parameter containing:\n",
            "tensor([[ 0.1456,  0.1463, -0.0107, -0.3290,  0.3324, -0.0817,  0.2408, -0.2121],\n",
            "        [-0.0361,  0.3031, -0.3068,  0.0136, -0.0046, -0.3022, -0.0685, -0.3241],\n",
            "        [ 0.0764,  0.0595,  0.2023,  0.0088, -0.1424, -0.1275, -0.1320,  0.2750],\n",
            "        [ 0.1133, -0.3520,  0.0632, -0.0472,  0.2579, -0.1034,  0.3086,  0.1093],\n",
            "        [-0.3185,  0.0744, -0.0807,  0.1770, -0.3035, -0.0259,  0.2337,  0.1253],\n",
            "        [ 0.1664,  0.2993,  0.1444,  0.1149,  0.0729,  0.0233,  0.3077, -0.0815],\n",
            "        [ 0.0465,  0.0049, -0.0977,  0.2585,  0.0198, -0.3007,  0.2398, -0.1170],\n",
            "        [ 0.0346, -0.3206,  0.1403, -0.2425, -0.0401,  0.3035,  0.0846,  0.2948],\n",
            "        [-0.1916, -0.3289, -0.2831, -0.1211, -0.1101, -0.0240,  0.2022,  0.3083],\n",
            "        [-0.3468, -0.2051,  0.3039, -0.0589, -0.0997, -0.3476, -0.0578, -0.3142],\n",
            "        [ 0.2995, -0.1622, -0.1091,  0.0659,  0.1606,  0.3088, -0.0598, -0.2639],\n",
            "        [ 0.3089, -0.0750,  0.1291, -0.2675, -0.2265, -0.0265, -0.1173,  0.0125],\n",
            "        [ 0.1332,  0.0347, -0.1532, -0.0083,  0.2732,  0.3097,  0.2948,  0.2339],\n",
            "        [ 0.1941,  0.3505, -0.3286, -0.3098,  0.2111,  0.3399, -0.2501,  0.1580],\n",
            "        [-0.1834, -0.0641,  0.3350, -0.2085,  0.1700,  0.2593,  0.1712, -0.2412],\n",
            "        [ 0.1085, -0.3193, -0.1823, -0.2054,  0.2406,  0.0829,  0.3404,  0.2288]],\n",
            "       requires_grad=True) torch.Size([16, 8])\n",
            "Parameter containing:\n",
            "tensor([-0.1073,  0.3411, -0.2356, -0.1087, -0.0920,  0.1411, -0.1518, -0.2809,\n",
            "         0.2167,  0.2920,  0.2149,  0.1990, -0.1129, -0.1216, -0.3101,  0.0080],\n",
            "       requires_grad=True) torch.Size([16])\n",
            "Parameter containing:\n",
            "tensor([[ 0.1613,  0.1294,  0.2146, -0.1938, -0.2187,  0.1168,  0.2438, -0.0843,\n",
            "          0.0452,  0.0718,  0.1306,  0.0372, -0.2146, -0.0440,  0.1293, -0.0117],\n",
            "        [-0.1810, -0.1568, -0.0823,  0.1867,  0.0400,  0.1867,  0.0246,  0.1534,\n",
            "          0.0240,  0.1711,  0.2164, -0.2091, -0.1842, -0.0930, -0.0066, -0.0801],\n",
            "        [-0.2148,  0.0027,  0.1638, -0.2003,  0.0562, -0.1611,  0.1235, -0.0365,\n",
            "          0.1796,  0.1290, -0.1794,  0.2099, -0.2230, -0.0239,  0.1334,  0.0937]],\n",
            "       requires_grad=True) torch.Size([3, 16])\n",
            "Parameter containing:\n",
            "tensor([-0.1942,  0.0198, -0.0984], requires_grad=True) torch.Size([3])\n"
          ]
        }
      ]
    },
    {
      "cell_type": "code",
      "source": [
        "# Train our model\n",
        "# Epochs\n",
        "epochs = 100\n",
        "\n",
        "losses = []\n",
        "for i  in range(epochs):\n",
        "  # Go forward and get predictions\n",
        "  y_pred = model.forward(X_train) #    Get prediction results\n",
        "\n",
        "  # Measure the loss/error\n",
        "  loss = criterion(y_pred, y_train) # predicted value vs y_train\n",
        "\n",
        "  #keep track or losses\n",
        "  losses.append(loss.detach().numpy())\n",
        "\n",
        "  #print every 10 epochs.\n",
        "  if i % 10 == 0:\n",
        "    print(f'Epoch: {i} and loss : {loss}')\n",
        "\n",
        "  # Backpropagation\n",
        "\n",
        "  optimizer.zero_grad()\n",
        "  loss.backward()\n",
        "  optimizer.step()"
      ],
      "metadata": {
        "colab": {
          "base_uri": "https://localhost:8080/"
        },
        "id": "iuyu9APXHg1F",
        "outputId": "896ada71-64e9-43e7-f79b-6b7fd2163457"
      },
      "execution_count": 29,
      "outputs": [
        {
          "output_type": "stream",
          "name": "stdout",
          "text": [
            "Epoch: 0 and loss : 1.1162396669387817\n",
            "Epoch: 10 and loss : 0.8350213170051575\n",
            "Epoch: 20 and loss : 0.4811387062072754\n",
            "Epoch: 30 and loss : 0.246641144156456\n",
            "Epoch: 40 and loss : 0.11919906735420227\n",
            "Epoch: 50 and loss : 0.06885357946157455\n",
            "Epoch: 60 and loss : 0.049146246165037155\n",
            "Epoch: 70 and loss : 0.03977043554186821\n",
            "Epoch: 80 and loss : 0.03438020870089531\n",
            "Epoch: 90 and loss : 0.03080672211945057\n"
          ]
        }
      ]
    },
    {
      "cell_type": "code",
      "source": [
        "# Graph the loss\n",
        "plt.plot(range(epochs), losses)\n",
        "plt.ylabel('loss/error')\n",
        "plt.xlabel('Epoch')\n",
        "plt.show()"
      ],
      "metadata": {
        "colab": {
          "base_uri": "https://localhost:8080/",
          "height": 449
        },
        "id": "AjpzOjhTJLbO",
        "outputId": "dcda4118-7783-4826-9ce0-6da24096477e"
      },
      "execution_count": 34,
      "outputs": [
        {
          "output_type": "display_data",
          "data": {
            "text/plain": [
              "<Figure size 640x480 with 1 Axes>"
            ],
            "image/png": "[encoded data removed]"
          },
          "metadata": {}
        }
      ]
    },
    {
      "cell_type": "code",
      "source": [
        "# Evaluate Model on test dataset(validate model on test set)\n",
        "\n",
        "with torch.no_grad(): # turn off back propagation\n",
        "  y_eval = model.forward(X_test) # X_test , y_eval\n",
        "  loss = criterion(y_eval, y_test) # find loss\n",
        ""
      ],
      "metadata": {
        "id": "3plu8whYMRh9"
      },
      "execution_count": 35,
      "outputs": []
    },
    {
      "cell_type": "code",
      "source": [
        "loss"
      ],
      "metadata": {
        "colab": {
          "base_uri": "https://localhost:8080/"
        },
        "id": "AYHPAtPUM6j1",
        "outputId": "98e4efeb-cb3d-43e5-c426-064fe34ac217"
      },
      "execution_count": 36,
      "outputs": [
        {
          "output_type": "execute_result",
          "data": {
            "text/plain": [
              "tensor(0.1516)"
            ]
          },
          "metadata": {},
          "execution_count": 36
        }
      ]
    },
    {
      "cell_type": "code",
      "source": [
        "# find out how many we got correct\n",
        "correct = 0\n",
        "with torch.no_grad():\n",
        "  for i, data in enumerate(X_test):\n",
        "    y_val = model.forward(data)\n",
        "\n",
        "    print(f'{i+1}.) {str(y_val)} \\t {y_test[i]} \\t {y_val.argmax().item()}')\n",
        "\n",
        "    #correct or not\n",
        "    if y_val.argmax().item() == y_test[i]:\n",
        "      correct +=1\n",
        "\n",
        "print(f'we got {correct} correct')"
      ],
      "metadata": {
        "colab": {
          "base_uri": "https://localhost:8080/"
        },
        "id": "DUgX9hyANC-k",
        "outputId": "79a9a507-52c9-4042-8f2e-63a980cf6eb3"
      },
      "execution_count": 39,
      "outputs": [
        {
          "output_type": "stream",
          "name": "stdout",
          "text": [
            "1.) tensor([-5.2069,  2.9402,  6.6868]) \t 2 \t 2\n",
            "2.) tensor([-7.2156,  1.7538, 11.2554]) \t 2 \t 2\n",
            "3.) tensor([-7.4784,  2.6418, 11.0193]) \t 2 \t 2\n",
            "4.) tensor([-2.5685e+00,  5.5449e+00, -2.8595e-03]) \t 1 \t 1\n",
            "5.) tensor([-6.2725,  2.9518,  8.6075]) \t 2 \t 2\n",
            "6.) tensor([-0.7099,  6.3862, -3.9064]) \t 1 \t 1\n",
            "7.) tensor([-4.6833,  3.8154,  5.0958]) \t 2 \t 2\n",
            "8.) tensor([-2.4111,  5.7417, -0.4329]) \t 1 \t 1\n",
            "9.) tensor([-5.4803,  3.3915,  6.8500]) \t 2 \t 2\n",
            "10.) tensor([-7.6267,  1.8619, 11.9354]) \t 2 \t 2\n",
            "11.) tensor([-4.5455,  3.8650,  4.8096]) \t 2 \t 2\n",
            "12.) tensor([ 11.7055,   4.3532, -22.1332]) \t 0 \t 0\n",
            "13.) tensor([ 10.6975,   3.8775, -20.1954]) \t 0 \t 0\n",
            "14.) tensor([ 0.4766,  5.4938, -5.1468]) \t 1 \t 1\n",
            "15.) tensor([  9.8323,   4.5882, -19.3155]) \t 0 \t 0\n",
            "16.) tensor([-4.3485,  4.1060,  4.2769]) \t 2 \t 2\n",
            "17.) tensor([ 10.3733,   4.2328, -19.9413]) \t 0 \t 0\n",
            "18.) tensor([-5.1259,  3.1700,  6.3713]) \t 1 \t 2\n",
            "19.) tensor([ 12.3525,   4.2219, -23.0333]) \t 0 \t 0\n",
            "20.) tensor([  9.4044,   3.9363, -18.1813]) \t 0 \t 0\n",
            "21.) tensor([-0.1431,  5.8572, -4.4392]) \t 1 \t 1\n",
            "22.) tensor([-7.0251,  2.4569, 10.3333]) \t 2 \t 2\n",
            "23.) tensor([ 10.0476,   4.5476, -19.6176]) \t 0 \t 0\n",
            "24.) tensor([ 11.4931,   4.0434, -21.5709]) \t 0 \t 0\n",
            "25.) tensor([ 0.2780,  6.0857, -5.2384]) \t 1 \t 1\n",
            "26.) tensor([-0.8888,  6.1378, -3.4717]) \t 1 \t 1\n",
            "27.) tensor([-2.7640,  5.6444,  0.2779]) \t 1 \t 1\n",
            "28.) tensor([-0.7552,  6.1322, -3.6811]) \t 1 \t 1\n",
            "29.) tensor([ 11.7588,   4.2480, -22.1404]) \t 0 \t 0\n",
            "30.) tensor([-2.9993,  5.1401,  1.0744]) \t 1 \t 1\n",
            "we got 29 correct\n"
          ]
        }
      ]
    },
    {
      "cell_type": "code",
      "source": [
        "# Evaluate new data point on the network\n",
        "new_iris = torch.tensor([4.7, 3.2, 1.3, 0.2])"
      ],
      "metadata": {
        "id": "oSjxQWTDO-zi"
      },
      "execution_count": 41,
      "outputs": []
    },
    {
      "cell_type": "code",
      "source": [
        "with torch.no_grad():\n",
        "  print(model(new_iris))"
      ],
      "metadata": {
        "colab": {
          "base_uri": "https://localhost:8080/"
        },
        "id": "Hug8cb2sPQWS",
        "outputId": "04ec7a4d-8c1b-4017-df19-e6100a81ccf0"
      },
      "execution_count": 42,
      "outputs": [
        {
          "output_type": "stream",
          "name": "stdout",
          "text": [
            "tensor([ 11.4931,   4.0434, -21.5709])\n"
          ]
        }
      ]
    },
    {
      "cell_type": "code",
      "source": [
        "# Save NN model\n",
        "torch.save(model.state_dict(), 'my_first_nn_iris_model.pt')"
      ],
      "metadata": {
        "id": "pzyGQd83Px9d"
      },
      "execution_count": 43,
      "outputs": []
    },
    {
      "cell_type": "code",
      "source": [
        "# load NN model\n",
        "new_model = Model()\n",
        "new_model.load_state_dict(torch.load('my_first_nn_iris_model.pt'))"
      ],
      "metadata": {
        "colab": {
          "base_uri": "https://localhost:8080/"
        },
        "id": "SkHVetCcQLD-",
        "outputId": "b3b330d2-f9b0-42b1-8a45-3c1632aed287"
      },
      "execution_count": 44,
      "outputs": [
        {
          "output_type": "execute_result",
          "data": {
            "text/plain": [
              "<All keys matched successfully>"
            ]
          },
          "metadata": {},
          "execution_count": 44
        }
      ]
    },
    {
      "cell_type": "code",
      "source": [
        "new_model.eval()"
      ],
      "metadata": {
        "colab": {
          "base_uri": "https://localhost:8080/"
        },
        "id": "IXrs3tcZQcDg",
        "outputId": "fed3617b-2d14-40c2-fb24-f9cb8ccde7de"
      },
      "execution_count": 45,
      "outputs": [
        {
          "output_type": "execute_result",
          "data": {
            "text/plain": [
              "Model(\n",
              "  (fc1): Linear(in_features=4, out_features=8, bias=True)\n",
              "  (fc2): Linear(in_features=8, out_features=16, bias=True)\n",
              "  (out): Linear(in_features=16, out_features=3, bias=True)\n",
              ")"
            ]
          },
          "metadata": {},
          "execution_count": 45
        }
      ]
    },
    {
      "cell_type": "code",
      "source": [
        "#Evaluate new data point on the loaded model\n",
        "new_iris_2 = torch.tensor([1.7, 3.2, 1.3, 3.2])"
      ],
      "metadata": {
        "id": "6gweQmQVQob1"
      },
      "execution_count": 46,
      "outputs": []
    },
    {
      "cell_type": "code",
      "source": [
        "with torch.no_grad():\n",
        "  print(new_model(new_iris_2))"
      ],
      "metadata": {
        "colab": {
          "base_uri": "https://localhost:8080/"
        },
        "id": "m3vzPe4KQ1Kd",
        "outputId": "4836bb25-50f2-45d6-8a27-45a17c439cc6"
      },
      "execution_count": 47,
      "outputs": [
        {
          "output_type": "stream",
          "name": "stdout",
          "text": [
            "tensor([-1.7918,  2.6251,  0.8776])\n"
          ]
        }
      ]
    }
  ]
}